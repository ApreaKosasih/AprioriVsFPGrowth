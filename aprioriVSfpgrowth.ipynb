{
 "metadata": {
  "language_info": {
   "codemirror_mode": {
    "name": "ipython",
    "version": 3
   },
   "file_extension": ".py",
   "mimetype": "text/x-python",
   "name": "python",
   "nbconvert_exporter": "python",
   "pygments_lexer": "ipython3",
   "version": "3.7.6-final"
  },
  "orig_nbformat": 2,
  "kernelspec": {
   "name": "python3",
   "display_name": "Python 3.7.6 64-bit (conda)",
   "metadata": {
    "interpreter": {
     "hash": "e15a56d86c0401fc4eb7e8a7e4f8f5c7ecef5f025c6319badeb4e5c5e08c8ac0"
    }
   }
  }
 },
 "nbformat": 4,
 "nbformat_minor": 2,
 "cells": [
  {
   "cell_type": "code",
   "execution_count": 1,
   "metadata": {},
   "outputs": [
    {
     "output_type": "execute_result",
     "data": {
      "text/plain": [
       "   tid               nama      kelas  qty                          title  \\\n",
       "0    1      SALSA MAULANI   XI IPS 2    1                     WHY ? BUMI   \n",
       "1    2             NABILA  XII IPA 2    1                      HAPPINESS   \n",
       "2    3            WALIDAH  XII IPA 2    1                      HAPPINESS   \n",
       "3    4  AULIA NURUL UTAMI  XII IPA 2    1               CURHAT SAMA NABI   \n",
       "4    5              DIANI  XII IPS 3    1  EFISIENSI WAKTU UNTUK MANAGER   \n",
       "\n",
       "  tgl_pinjam tgl_kembali  \n",
       "0 2019-01-02  2019-01-09  \n",
       "1 2019-01-03  2019-01-10  \n",
       "2 2019-01-03  2019-01-10  \n",
       "3 2019-01-03  2019-01-10  \n",
       "4 2019-01-03  2019-01-10  "
      ],
      "text/html": "<div>\n<style scoped>\n    .dataframe tbody tr th:only-of-type {\n        vertical-align: middle;\n    }\n\n    .dataframe tbody tr th {\n        vertical-align: top;\n    }\n\n    .dataframe thead th {\n        text-align: right;\n    }\n</style>\n<table border=\"1\" class=\"dataframe\">\n  <thead>\n    <tr style=\"text-align: right;\">\n      <th></th>\n      <th>tid</th>\n      <th>nama</th>\n      <th>kelas</th>\n      <th>qty</th>\n      <th>title</th>\n      <th>tgl_pinjam</th>\n      <th>tgl_kembali</th>\n    </tr>\n  </thead>\n  <tbody>\n    <tr>\n      <th>0</th>\n      <td>1</td>\n      <td>SALSA MAULANI</td>\n      <td>XI IPS 2</td>\n      <td>1</td>\n      <td>WHY ? BUMI</td>\n      <td>2019-01-02</td>\n      <td>2019-01-09</td>\n    </tr>\n    <tr>\n      <th>1</th>\n      <td>2</td>\n      <td>NABILA</td>\n      <td>XII IPA 2</td>\n      <td>1</td>\n      <td>HAPPINESS</td>\n      <td>2019-01-03</td>\n      <td>2019-01-10</td>\n    </tr>\n    <tr>\n      <th>2</th>\n      <td>3</td>\n      <td>WALIDAH</td>\n      <td>XII IPA 2</td>\n      <td>1</td>\n      <td>HAPPINESS</td>\n      <td>2019-01-03</td>\n      <td>2019-01-10</td>\n    </tr>\n    <tr>\n      <th>3</th>\n      <td>4</td>\n      <td>AULIA NURUL UTAMI</td>\n      <td>XII IPA 2</td>\n      <td>1</td>\n      <td>CURHAT SAMA NABI</td>\n      <td>2019-01-03</td>\n      <td>2019-01-10</td>\n    </tr>\n    <tr>\n      <th>4</th>\n      <td>5</td>\n      <td>DIANI</td>\n      <td>XII IPS 3</td>\n      <td>1</td>\n      <td>EFISIENSI WAKTU UNTUK MANAGER</td>\n      <td>2019-01-03</td>\n      <td>2019-01-10</td>\n    </tr>\n  </tbody>\n</table>\n</div>"
     },
     "metadata": {},
     "execution_count": 1
    }
   ],
   "source": [
    "import pandas as pd\n",
    "from mlxtend.frequent_patterns import apriori, fpgrowth\n",
    "from mlxtend.preprocessing import TransactionEncoder\n",
    "from mlxtend.frequent_patterns import association_rules\n",
    "df = pd.read_excel('datasheet.xlsx')\n",
    "df.head()"
   ]
  },
  {
   "cell_type": "code",
   "execution_count": 2,
   "metadata": {},
   "outputs": [
    {
     "output_type": "execute_result",
     "data": {
      "text/plain": [
       "      tid               nama      kelas  qty  \\\n",
       "0       1      SALSA MAULANI   XI IPS 2    1   \n",
       "1       2             NABILA  XII IPA 2    1   \n",
       "2       3            WALIDAH  XII IPA 2    1   \n",
       "3       4  AULIA NURUL UTAMI  XII IPA 2    1   \n",
       "4       5              DIANI  XII IPS 3    1   \n",
       "...   ...                ...        ...  ...   \n",
       "1081  914            ADINDA   XII MIPA     1   \n",
       "1082  915              SARAH   XII MIPA    1   \n",
       "1083  915              SARAH   XII MIPA    1   \n",
       "1084  916             SALMA    X MIPA 2    1   \n",
       "1085  917             AHSYTA   X MIPA 2    1   \n",
       "\n",
       "                                  title tgl_pinjam tgl_kembali  \n",
       "0                            WHY ? BUMI 2019-01-02  2019-01-09  \n",
       "1                             HAPPINESS 2019-01-03  2019-01-10  \n",
       "2                             HAPPINESS 2019-01-03  2019-01-10  \n",
       "3                      CURHAT SAMA NABI 2019-01-03  2019-01-10  \n",
       "4         EFISIENSI WAKTU UNTUK MANAGER 2019-01-03  2019-01-10  \n",
       "...                                 ...        ...         ...  \n",
       "1081                              RINDU 2019-12-13  2019-12-20  \n",
       "1082                       SURAT DAHLAN 2019-12-13  2019-12-20  \n",
       "1083              AYAKU BUKAN PEMBOHONG 2019-12-13  2019-12-20  \n",
       "1084  KAU, AKU DAN SEPUCUK ANGPAO MERAH 2019-12-13  2019-12-20  \n",
       "1085                NEGERI PARA BEDEBAH 2019-12-16  2019-12-23  \n",
       "\n",
       "[1086 rows x 7 columns]"
      ],
      "text/html": "<div>\n<style scoped>\n    .dataframe tbody tr th:only-of-type {\n        vertical-align: middle;\n    }\n\n    .dataframe tbody tr th {\n        vertical-align: top;\n    }\n\n    .dataframe thead th {\n        text-align: right;\n    }\n</style>\n<table border=\"1\" class=\"dataframe\">\n  <thead>\n    <tr style=\"text-align: right;\">\n      <th></th>\n      <th>tid</th>\n      <th>nama</th>\n      <th>kelas</th>\n      <th>qty</th>\n      <th>title</th>\n      <th>tgl_pinjam</th>\n      <th>tgl_kembali</th>\n    </tr>\n  </thead>\n  <tbody>\n    <tr>\n      <th>0</th>\n      <td>1</td>\n      <td>SALSA MAULANI</td>\n      <td>XI IPS 2</td>\n      <td>1</td>\n      <td>WHY ? BUMI</td>\n      <td>2019-01-02</td>\n      <td>2019-01-09</td>\n    </tr>\n    <tr>\n      <th>1</th>\n      <td>2</td>\n      <td>NABILA</td>\n      <td>XII IPA 2</td>\n      <td>1</td>\n      <td>HAPPINESS</td>\n      <td>2019-01-03</td>\n      <td>2019-01-10</td>\n    </tr>\n    <tr>\n      <th>2</th>\n      <td>3</td>\n      <td>WALIDAH</td>\n      <td>XII IPA 2</td>\n      <td>1</td>\n      <td>HAPPINESS</td>\n      <td>2019-01-03</td>\n      <td>2019-01-10</td>\n    </tr>\n    <tr>\n      <th>3</th>\n      <td>4</td>\n      <td>AULIA NURUL UTAMI</td>\n      <td>XII IPA 2</td>\n      <td>1</td>\n      <td>CURHAT SAMA NABI</td>\n      <td>2019-01-03</td>\n      <td>2019-01-10</td>\n    </tr>\n    <tr>\n      <th>4</th>\n      <td>5</td>\n      <td>DIANI</td>\n      <td>XII IPS 3</td>\n      <td>1</td>\n      <td>EFISIENSI WAKTU UNTUK MANAGER</td>\n      <td>2019-01-03</td>\n      <td>2019-01-10</td>\n    </tr>\n    <tr>\n      <th>...</th>\n      <td>...</td>\n      <td>...</td>\n      <td>...</td>\n      <td>...</td>\n      <td>...</td>\n      <td>...</td>\n      <td>...</td>\n    </tr>\n    <tr>\n      <th>1081</th>\n      <td>914</td>\n      <td>ADINDA</td>\n      <td>XII MIPA</td>\n      <td>1</td>\n      <td>RINDU</td>\n      <td>2019-12-13</td>\n      <td>2019-12-20</td>\n    </tr>\n    <tr>\n      <th>1082</th>\n      <td>915</td>\n      <td>SARAH</td>\n      <td>XII MIPA</td>\n      <td>1</td>\n      <td>SURAT DAHLAN</td>\n      <td>2019-12-13</td>\n      <td>2019-12-20</td>\n    </tr>\n    <tr>\n      <th>1083</th>\n      <td>915</td>\n      <td>SARAH</td>\n      <td>XII MIPA</td>\n      <td>1</td>\n      <td>AYAKU BUKAN PEMBOHONG</td>\n      <td>2019-12-13</td>\n      <td>2019-12-20</td>\n    </tr>\n    <tr>\n      <th>1084</th>\n      <td>916</td>\n      <td>SALMA</td>\n      <td>X MIPA 2</td>\n      <td>1</td>\n      <td>KAU, AKU DAN SEPUCUK ANGPAO MERAH</td>\n      <td>2019-12-13</td>\n      <td>2019-12-20</td>\n    </tr>\n    <tr>\n      <th>1085</th>\n      <td>917</td>\n      <td>AHSYTA</td>\n      <td>X MIPA 2</td>\n      <td>1</td>\n      <td>NEGERI PARA BEDEBAH</td>\n      <td>2019-12-16</td>\n      <td>2019-12-23</td>\n    </tr>\n  </tbody>\n</table>\n<p>1086 rows × 7 columns</p>\n</div>"
     },
     "metadata": {},
     "execution_count": 2
    }
   ],
   "source": [
    "df['title'] = df['title'].str.strip()\n",
    "df.dropna(axis=0, subset=['tid'], inplace=True)\n",
    "df['tid'] = df['tid'].astype('str')\n",
    "df = df[~df['tid'].str.contains('C')]\n",
    "df"
   ]
  },
  {
   "cell_type": "code",
   "execution_count": 3,
   "metadata": {},
   "outputs": [
    {
     "output_type": "execute_result",
     "data": {
      "text/plain": [
       "title       100%  JAWARA FISIKA  105 PESA NABI UNTUK WANITA  105 PESAN NABI  \\\n",
       "tid                                                                           \n",
       "1      0.0                  0.0                         0.0             0.0   \n",
       "10     0.0                  0.0                         0.0             0.0   \n",
       "100    0.0                  0.0                         0.0             0.0   \n",
       "101    0.0                  0.0                         0.0             0.0   \n",
       "102    0.0                  0.0                         0.0             0.0   \n",
       "..     ...                  ...                         ...             ...   \n",
       "95     0.0                  0.0                         0.0             0.0   \n",
       "96     0.0                  0.0                         0.0             0.0   \n",
       "97     0.0                  0.0                         0.0             0.0   \n",
       "98     0.0                  0.0                         0.0             0.0   \n",
       "99     0.0                  0.0                         0.0             0.0   \n",
       "\n",
       "title  105 PESAN NABI UNTUK WANITA SEHARI HARI  115 KISAH MENAJUBKAN  \\\n",
       "tid                                                                    \n",
       "1                                          0.0                   0.0   \n",
       "10                                         0.0                   0.0   \n",
       "100                                        0.0                   0.0   \n",
       "101                                        0.0                   0.0   \n",
       "102                                        0.0                   0.0   \n",
       "..                                         ...                   ...   \n",
       "95                                         0.0                   0.0   \n",
       "96                                         0.0                   0.0   \n",
       "97                                         0.0                   0.0   \n",
       "98                                         0.0                   0.0   \n",
       "99                                         0.0                   0.0   \n",
       "\n",
       "title  15 KISAH NYATA HOROR  17 TAHUN  17 TAHUN BIKIN PUSING  \\\n",
       "tid                                                            \n",
       "1                       0.0       0.0                    0.0   \n",
       "10                      0.0       0.0                    0.0   \n",
       "100                     0.0       0.0                    0.0   \n",
       "101                     0.0       0.0                    0.0   \n",
       "102                     0.0       0.0                    0.0   \n",
       "..                      ...       ...                    ...   \n",
       "95                      0.0       0.0                    0.0   \n",
       "96                      0.0       0.0                    0.0   \n",
       "97                      0.0       0.0                    0.0   \n",
       "98                      0.0       0.0                    0.0   \n",
       "99                      0.0       0.0                    0.0   \n",
       "\n",
       "title  20 PAHLAWAN NASIONAL  ...  WHY ? ROKET DAN PESAWAT RUANG ANGKASA  \\\n",
       "tid                          ...                                          \n",
       "1                       0.0  ...                                    0.0   \n",
       "10                      0.0  ...                                    0.0   \n",
       "100                     0.0  ...                                    0.0   \n",
       "101                     0.0  ...                                    0.0   \n",
       "102                     0.0  ...                                    0.0   \n",
       "..                      ...  ...                                    ...   \n",
       "95                      0.0  ...                                    0.0   \n",
       "96                      0.0  ...                                    0.0   \n",
       "97                      0.0  ...                                    0.0   \n",
       "98                      0.0  ...                                    0.0   \n",
       "99                      0.0  ...                                    0.0   \n",
       "\n",
       "title  WHY ? SAINS INVESTUIGASI  WHY ? SAINTS INVESTIGASI  \\\n",
       "tid                                                         \n",
       "1                           0.0                       0.0   \n",
       "10                          0.0                       0.0   \n",
       "100                         0.0                       0.0   \n",
       "101                         0.0                       0.0   \n",
       "102                         0.0                       0.0   \n",
       "..                          ...                       ...   \n",
       "95                          0.0                       0.0   \n",
       "96                          0.0                       0.0   \n",
       "97                          0.0                       0.0   \n",
       "98                          0.0                       0.0   \n",
       "99                          0.0                       0.0   \n",
       "\n",
       "title  WHY CAN'T FALL IN LOVE  WHY KANEDA CAN'T FALL IN LOVE 1  \\\n",
       "tid                                                              \n",
       "1                         0.0                              0.0   \n",
       "10                        0.0                              0.0   \n",
       "100                       0.0                              0.0   \n",
       "101                       0.0                              0.0   \n",
       "102                       0.0                              0.0   \n",
       "..                        ...                              ...   \n",
       "95                        0.0                              0.0   \n",
       "96                        0.0                              0.0   \n",
       "97                        0.0                              0.0   \n",
       "98                        0.0                              0.0   \n",
       "99                        0.0                              0.0   \n",
       "\n",
       "title  WHY KANEDA CAN'T FALL IN LOVE 2  WOMAN IN CABIN 10  \\\n",
       "tid                                                         \n",
       "1                                  0.0                0.0   \n",
       "10                                 0.0                0.0   \n",
       "100                                0.0                0.0   \n",
       "101                                0.0                0.0   \n",
       "102                                0.0                0.0   \n",
       "..                                 ...                ...   \n",
       "95                                 0.0                0.0   \n",
       "96                                 0.0                0.0   \n",
       "97                                 0.0                0.0   \n",
       "98                                 0.0                0.0   \n",
       "99                                 0.0                0.0   \n",
       "\n",
       "title  YA ALLAH MASUKAN AKU KEDALAM SURGA-MU  YESUS ANAK MANUSIA  ZEIRA  \n",
       "tid                                                                      \n",
       "1                                        0.0                 0.0    0.0  \n",
       "10                                       0.0                 0.0    0.0  \n",
       "100                                      0.0                 0.0    0.0  \n",
       "101                                      0.0                 0.0    0.0  \n",
       "102                                      0.0                 0.0    0.0  \n",
       "..                                       ...                 ...    ...  \n",
       "95                                       0.0                 0.0    0.0  \n",
       "96                                       0.0                 0.0    0.0  \n",
       "97                                       0.0                 0.0    0.0  \n",
       "98                                       0.0                 0.0    0.0  \n",
       "99                                       0.0                 0.0    0.0  \n",
       "\n",
       "[917 rows x 422 columns]"
      ],
      "text/html": "<div>\n<style scoped>\n    .dataframe tbody tr th:only-of-type {\n        vertical-align: middle;\n    }\n\n    .dataframe tbody tr th {\n        vertical-align: top;\n    }\n\n    .dataframe thead th {\n        text-align: right;\n    }\n</style>\n<table border=\"1\" class=\"dataframe\">\n  <thead>\n    <tr style=\"text-align: right;\">\n      <th>title</th>\n      <th></th>\n      <th>100%  JAWARA FISIKA</th>\n      <th>105 PESA NABI UNTUK WANITA</th>\n      <th>105 PESAN NABI</th>\n      <th>105 PESAN NABI UNTUK WANITA SEHARI HARI</th>\n      <th>115 KISAH MENAJUBKAN</th>\n      <th>15 KISAH NYATA HOROR</th>\n      <th>17 TAHUN</th>\n      <th>17 TAHUN BIKIN PUSING</th>\n      <th>20 PAHLAWAN NASIONAL</th>\n      <th>...</th>\n      <th>WHY ? ROKET DAN PESAWAT RUANG ANGKASA</th>\n      <th>WHY ? SAINS INVESTUIGASI</th>\n      <th>WHY ? SAINTS INVESTIGASI</th>\n      <th>WHY CAN'T FALL IN LOVE</th>\n      <th>WHY KANEDA CAN'T FALL IN LOVE 1</th>\n      <th>WHY KANEDA CAN'T FALL IN LOVE 2</th>\n      <th>WOMAN IN CABIN 10</th>\n      <th>YA ALLAH MASUKAN AKU KEDALAM SURGA-MU</th>\n      <th>YESUS ANAK MANUSIA</th>\n      <th>ZEIRA</th>\n    </tr>\n    <tr>\n      <th>tid</th>\n      <th></th>\n      <th></th>\n      <th></th>\n      <th></th>\n      <th></th>\n      <th></th>\n      <th></th>\n      <th></th>\n      <th></th>\n      <th></th>\n      <th></th>\n      <th></th>\n      <th></th>\n      <th></th>\n      <th></th>\n      <th></th>\n      <th></th>\n      <th></th>\n      <th></th>\n      <th></th>\n      <th></th>\n    </tr>\n  </thead>\n  <tbody>\n    <tr>\n      <th>1</th>\n      <td>0.0</td>\n      <td>0.0</td>\n      <td>0.0</td>\n      <td>0.0</td>\n      <td>0.0</td>\n      <td>0.0</td>\n      <td>0.0</td>\n      <td>0.0</td>\n      <td>0.0</td>\n      <td>0.0</td>\n      <td>...</td>\n      <td>0.0</td>\n      <td>0.0</td>\n      <td>0.0</td>\n      <td>0.0</td>\n      <td>0.0</td>\n      <td>0.0</td>\n      <td>0.0</td>\n      <td>0.0</td>\n      <td>0.0</td>\n      <td>0.0</td>\n    </tr>\n    <tr>\n      <th>10</th>\n      <td>0.0</td>\n      <td>0.0</td>\n      <td>0.0</td>\n      <td>0.0</td>\n      <td>0.0</td>\n      <td>0.0</td>\n      <td>0.0</td>\n      <td>0.0</td>\n      <td>0.0</td>\n      <td>0.0</td>\n      <td>...</td>\n      <td>0.0</td>\n      <td>0.0</td>\n      <td>0.0</td>\n      <td>0.0</td>\n      <td>0.0</td>\n      <td>0.0</td>\n      <td>0.0</td>\n      <td>0.0</td>\n      <td>0.0</td>\n      <td>0.0</td>\n    </tr>\n    <tr>\n      <th>100</th>\n      <td>0.0</td>\n      <td>0.0</td>\n      <td>0.0</td>\n      <td>0.0</td>\n      <td>0.0</td>\n      <td>0.0</td>\n      <td>0.0</td>\n      <td>0.0</td>\n      <td>0.0</td>\n      <td>0.0</td>\n      <td>...</td>\n      <td>0.0</td>\n      <td>0.0</td>\n      <td>0.0</td>\n      <td>0.0</td>\n      <td>0.0</td>\n      <td>0.0</td>\n      <td>0.0</td>\n      <td>0.0</td>\n      <td>0.0</td>\n      <td>0.0</td>\n    </tr>\n    <tr>\n      <th>101</th>\n      <td>0.0</td>\n      <td>0.0</td>\n      <td>0.0</td>\n      <td>0.0</td>\n      <td>0.0</td>\n      <td>0.0</td>\n      <td>0.0</td>\n      <td>0.0</td>\n      <td>0.0</td>\n      <td>0.0</td>\n      <td>...</td>\n      <td>0.0</td>\n      <td>0.0</td>\n      <td>0.0</td>\n      <td>0.0</td>\n      <td>0.0</td>\n      <td>0.0</td>\n      <td>0.0</td>\n      <td>0.0</td>\n      <td>0.0</td>\n      <td>0.0</td>\n    </tr>\n    <tr>\n      <th>102</th>\n      <td>0.0</td>\n      <td>0.0</td>\n      <td>0.0</td>\n      <td>0.0</td>\n      <td>0.0</td>\n      <td>0.0</td>\n      <td>0.0</td>\n      <td>0.0</td>\n      <td>0.0</td>\n      <td>0.0</td>\n      <td>...</td>\n      <td>0.0</td>\n      <td>0.0</td>\n      <td>0.0</td>\n      <td>0.0</td>\n      <td>0.0</td>\n      <td>0.0</td>\n      <td>0.0</td>\n      <td>0.0</td>\n      <td>0.0</td>\n      <td>0.0</td>\n    </tr>\n    <tr>\n      <th>...</th>\n      <td>...</td>\n      <td>...</td>\n      <td>...</td>\n      <td>...</td>\n      <td>...</td>\n      <td>...</td>\n      <td>...</td>\n      <td>...</td>\n      <td>...</td>\n      <td>...</td>\n      <td>...</td>\n      <td>...</td>\n      <td>...</td>\n      <td>...</td>\n      <td>...</td>\n      <td>...</td>\n      <td>...</td>\n      <td>...</td>\n      <td>...</td>\n      <td>...</td>\n      <td>...</td>\n    </tr>\n    <tr>\n      <th>95</th>\n      <td>0.0</td>\n      <td>0.0</td>\n      <td>0.0</td>\n      <td>0.0</td>\n      <td>0.0</td>\n      <td>0.0</td>\n      <td>0.0</td>\n      <td>0.0</td>\n      <td>0.0</td>\n      <td>0.0</td>\n      <td>...</td>\n      <td>0.0</td>\n      <td>0.0</td>\n      <td>0.0</td>\n      <td>0.0</td>\n      <td>0.0</td>\n      <td>0.0</td>\n      <td>0.0</td>\n      <td>0.0</td>\n      <td>0.0</td>\n      <td>0.0</td>\n    </tr>\n    <tr>\n      <th>96</th>\n      <td>0.0</td>\n      <td>0.0</td>\n      <td>0.0</td>\n      <td>0.0</td>\n      <td>0.0</td>\n      <td>0.0</td>\n      <td>0.0</td>\n      <td>0.0</td>\n      <td>0.0</td>\n      <td>0.0</td>\n      <td>...</td>\n      <td>0.0</td>\n      <td>0.0</td>\n      <td>0.0</td>\n      <td>0.0</td>\n      <td>0.0</td>\n      <td>0.0</td>\n      <td>0.0</td>\n      <td>0.0</td>\n      <td>0.0</td>\n      <td>0.0</td>\n    </tr>\n    <tr>\n      <th>97</th>\n      <td>0.0</td>\n      <td>0.0</td>\n      <td>0.0</td>\n      <td>0.0</td>\n      <td>0.0</td>\n      <td>0.0</td>\n      <td>0.0</td>\n      <td>0.0</td>\n      <td>0.0</td>\n      <td>0.0</td>\n      <td>...</td>\n      <td>0.0</td>\n      <td>0.0</td>\n      <td>0.0</td>\n      <td>0.0</td>\n      <td>0.0</td>\n      <td>0.0</td>\n      <td>0.0</td>\n      <td>0.0</td>\n      <td>0.0</td>\n      <td>0.0</td>\n    </tr>\n    <tr>\n      <th>98</th>\n      <td>0.0</td>\n      <td>0.0</td>\n      <td>0.0</td>\n      <td>0.0</td>\n      <td>0.0</td>\n      <td>0.0</td>\n      <td>0.0</td>\n      <td>0.0</td>\n      <td>0.0</td>\n      <td>0.0</td>\n      <td>...</td>\n      <td>0.0</td>\n      <td>0.0</td>\n      <td>0.0</td>\n      <td>0.0</td>\n      <td>0.0</td>\n      <td>0.0</td>\n      <td>0.0</td>\n      <td>0.0</td>\n      <td>0.0</td>\n      <td>0.0</td>\n    </tr>\n    <tr>\n      <th>99</th>\n      <td>0.0</td>\n      <td>0.0</td>\n      <td>0.0</td>\n      <td>0.0</td>\n      <td>0.0</td>\n      <td>0.0</td>\n      <td>0.0</td>\n      <td>0.0</td>\n      <td>0.0</td>\n      <td>0.0</td>\n      <td>...</td>\n      <td>0.0</td>\n      <td>0.0</td>\n      <td>0.0</td>\n      <td>0.0</td>\n      <td>0.0</td>\n      <td>0.0</td>\n      <td>0.0</td>\n      <td>0.0</td>\n      <td>0.0</td>\n      <td>0.0</td>\n    </tr>\n  </tbody>\n</table>\n<p>917 rows × 422 columns</p>\n</div>"
     },
     "metadata": {},
     "execution_count": 3
    }
   ],
   "source": [
    "basket = (df.groupby(['tid', 'title'])['qty']\n",
    "          .sum().unstack().reset_index().fillna(0)\n",
    "          .set_index('tid'))\n",
    "basket"
   ]
  },
  {
   "cell_type": "code",
   "execution_count": 4,
   "metadata": {},
   "outputs": [
    {
     "output_type": "execute_result",
     "data": {
      "text/plain": [
       "title     100%  JAWARA FISIKA  105 PESA NABI UNTUK WANITA  105 PESAN NABI  \\\n",
       "tid                                                                         \n",
       "1      0                    0                           0               0   \n",
       "10     0                    0                           0               0   \n",
       "100    0                    0                           0               0   \n",
       "101    0                    0                           0               0   \n",
       "102    0                    0                           0               0   \n",
       "..    ..                  ...                         ...             ...   \n",
       "95     0                    0                           0               0   \n",
       "96     0                    0                           0               0   \n",
       "97     0                    0                           0               0   \n",
       "98     0                    0                           0               0   \n",
       "99     0                    0                           0               0   \n",
       "\n",
       "title  105 PESAN NABI UNTUK WANITA SEHARI HARI  115 KISAH MENAJUBKAN  \\\n",
       "tid                                                                    \n",
       "1                                            0                     0   \n",
       "10                                           0                     0   \n",
       "100                                          0                     0   \n",
       "101                                          0                     0   \n",
       "102                                          0                     0   \n",
       "..                                         ...                   ...   \n",
       "95                                           0                     0   \n",
       "96                                           0                     0   \n",
       "97                                           0                     0   \n",
       "98                                           0                     0   \n",
       "99                                           0                     0   \n",
       "\n",
       "title  15 KISAH NYATA HOROR  17 TAHUN  17 TAHUN BIKIN PUSING  \\\n",
       "tid                                                            \n",
       "1                         0         0                      0   \n",
       "10                        0         0                      0   \n",
       "100                       0         0                      0   \n",
       "101                       0         0                      0   \n",
       "102                       0         0                      0   \n",
       "..                      ...       ...                    ...   \n",
       "95                        0         0                      0   \n",
       "96                        0         0                      0   \n",
       "97                        0         0                      0   \n",
       "98                        0         0                      0   \n",
       "99                        0         0                      0   \n",
       "\n",
       "title  20 PAHLAWAN NASIONAL  ...  WHY ? ROKET DAN PESAWAT RUANG ANGKASA  \\\n",
       "tid                          ...                                          \n",
       "1                         0  ...                                      0   \n",
       "10                        0  ...                                      0   \n",
       "100                       0  ...                                      0   \n",
       "101                       0  ...                                      0   \n",
       "102                       0  ...                                      0   \n",
       "..                      ...  ...                                    ...   \n",
       "95                        0  ...                                      0   \n",
       "96                        0  ...                                      0   \n",
       "97                        0  ...                                      0   \n",
       "98                        0  ...                                      0   \n",
       "99                        0  ...                                      0   \n",
       "\n",
       "title  WHY ? SAINS INVESTUIGASI  WHY ? SAINTS INVESTIGASI  \\\n",
       "tid                                                         \n",
       "1                             0                         0   \n",
       "10                            0                         0   \n",
       "100                           0                         0   \n",
       "101                           0                         0   \n",
       "102                           0                         0   \n",
       "..                          ...                       ...   \n",
       "95                            0                         0   \n",
       "96                            0                         0   \n",
       "97                            0                         0   \n",
       "98                            0                         0   \n",
       "99                            0                         0   \n",
       "\n",
       "title  WHY CAN'T FALL IN LOVE  WHY KANEDA CAN'T FALL IN LOVE 1  \\\n",
       "tid                                                              \n",
       "1                           0                                0   \n",
       "10                          0                                0   \n",
       "100                         0                                0   \n",
       "101                         0                                0   \n",
       "102                         0                                0   \n",
       "..                        ...                              ...   \n",
       "95                          0                                0   \n",
       "96                          0                                0   \n",
       "97                          0                                0   \n",
       "98                          0                                0   \n",
       "99                          0                                0   \n",
       "\n",
       "title  WHY KANEDA CAN'T FALL IN LOVE 2  WOMAN IN CABIN 10  \\\n",
       "tid                                                         \n",
       "1                                    0                  0   \n",
       "10                                   0                  0   \n",
       "100                                  0                  0   \n",
       "101                                  0                  0   \n",
       "102                                  0                  0   \n",
       "..                                 ...                ...   \n",
       "95                                   0                  0   \n",
       "96                                   0                  0   \n",
       "97                                   0                  0   \n",
       "98                                   0                  0   \n",
       "99                                   0                  0   \n",
       "\n",
       "title  YA ALLAH MASUKAN AKU KEDALAM SURGA-MU  YESUS ANAK MANUSIA  ZEIRA  \n",
       "tid                                                                      \n",
       "1                                          0                   0      0  \n",
       "10                                         0                   0      0  \n",
       "100                                        0                   0      0  \n",
       "101                                        0                   0      0  \n",
       "102                                        0                   0      0  \n",
       "..                                       ...                 ...    ...  \n",
       "95                                         0                   0      0  \n",
       "96                                         0                   0      0  \n",
       "97                                         0                   0      0  \n",
       "98                                         0                   0      0  \n",
       "99                                         0                   0      0  \n",
       "\n",
       "[917 rows x 422 columns]"
      ],
      "text/html": "<div>\n<style scoped>\n    .dataframe tbody tr th:only-of-type {\n        vertical-align: middle;\n    }\n\n    .dataframe tbody tr th {\n        vertical-align: top;\n    }\n\n    .dataframe thead th {\n        text-align: right;\n    }\n</style>\n<table border=\"1\" class=\"dataframe\">\n  <thead>\n    <tr style=\"text-align: right;\">\n      <th>title</th>\n      <th></th>\n      <th>100%  JAWARA FISIKA</th>\n      <th>105 PESA NABI UNTUK WANITA</th>\n      <th>105 PESAN NABI</th>\n      <th>105 PESAN NABI UNTUK WANITA SEHARI HARI</th>\n      <th>115 KISAH MENAJUBKAN</th>\n      <th>15 KISAH NYATA HOROR</th>\n      <th>17 TAHUN</th>\n      <th>17 TAHUN BIKIN PUSING</th>\n      <th>20 PAHLAWAN NASIONAL</th>\n      <th>...</th>\n      <th>WHY ? ROKET DAN PESAWAT RUANG ANGKASA</th>\n      <th>WHY ? SAINS INVESTUIGASI</th>\n      <th>WHY ? SAINTS INVESTIGASI</th>\n      <th>WHY CAN'T FALL IN LOVE</th>\n      <th>WHY KANEDA CAN'T FALL IN LOVE 1</th>\n      <th>WHY KANEDA CAN'T FALL IN LOVE 2</th>\n      <th>WOMAN IN CABIN 10</th>\n      <th>YA ALLAH MASUKAN AKU KEDALAM SURGA-MU</th>\n      <th>YESUS ANAK MANUSIA</th>\n      <th>ZEIRA</th>\n    </tr>\n    <tr>\n      <th>tid</th>\n      <th></th>\n      <th></th>\n      <th></th>\n      <th></th>\n      <th></th>\n      <th></th>\n      <th></th>\n      <th></th>\n      <th></th>\n      <th></th>\n      <th></th>\n      <th></th>\n      <th></th>\n      <th></th>\n      <th></th>\n      <th></th>\n      <th></th>\n      <th></th>\n      <th></th>\n      <th></th>\n      <th></th>\n    </tr>\n  </thead>\n  <tbody>\n    <tr>\n      <th>1</th>\n      <td>0</td>\n      <td>0</td>\n      <td>0</td>\n      <td>0</td>\n      <td>0</td>\n      <td>0</td>\n      <td>0</td>\n      <td>0</td>\n      <td>0</td>\n      <td>0</td>\n      <td>...</td>\n      <td>0</td>\n      <td>0</td>\n      <td>0</td>\n      <td>0</td>\n      <td>0</td>\n      <td>0</td>\n      <td>0</td>\n      <td>0</td>\n      <td>0</td>\n      <td>0</td>\n    </tr>\n    <tr>\n      <th>10</th>\n      <td>0</td>\n      <td>0</td>\n      <td>0</td>\n      <td>0</td>\n      <td>0</td>\n      <td>0</td>\n      <td>0</td>\n      <td>0</td>\n      <td>0</td>\n      <td>0</td>\n      <td>...</td>\n      <td>0</td>\n      <td>0</td>\n      <td>0</td>\n      <td>0</td>\n      <td>0</td>\n      <td>0</td>\n      <td>0</td>\n      <td>0</td>\n      <td>0</td>\n      <td>0</td>\n    </tr>\n    <tr>\n      <th>100</th>\n      <td>0</td>\n      <td>0</td>\n      <td>0</td>\n      <td>0</td>\n      <td>0</td>\n      <td>0</td>\n      <td>0</td>\n      <td>0</td>\n      <td>0</td>\n      <td>0</td>\n      <td>...</td>\n      <td>0</td>\n      <td>0</td>\n      <td>0</td>\n      <td>0</td>\n      <td>0</td>\n      <td>0</td>\n      <td>0</td>\n      <td>0</td>\n      <td>0</td>\n      <td>0</td>\n    </tr>\n    <tr>\n      <th>101</th>\n      <td>0</td>\n      <td>0</td>\n      <td>0</td>\n      <td>0</td>\n      <td>0</td>\n      <td>0</td>\n      <td>0</td>\n      <td>0</td>\n      <td>0</td>\n      <td>0</td>\n      <td>...</td>\n      <td>0</td>\n      <td>0</td>\n      <td>0</td>\n      <td>0</td>\n      <td>0</td>\n      <td>0</td>\n      <td>0</td>\n      <td>0</td>\n      <td>0</td>\n      <td>0</td>\n    </tr>\n    <tr>\n      <th>102</th>\n      <td>0</td>\n      <td>0</td>\n      <td>0</td>\n      <td>0</td>\n      <td>0</td>\n      <td>0</td>\n      <td>0</td>\n      <td>0</td>\n      <td>0</td>\n      <td>0</td>\n      <td>...</td>\n      <td>0</td>\n      <td>0</td>\n      <td>0</td>\n      <td>0</td>\n      <td>0</td>\n      <td>0</td>\n      <td>0</td>\n      <td>0</td>\n      <td>0</td>\n      <td>0</td>\n    </tr>\n    <tr>\n      <th>...</th>\n      <td>...</td>\n      <td>...</td>\n      <td>...</td>\n      <td>...</td>\n      <td>...</td>\n      <td>...</td>\n      <td>...</td>\n      <td>...</td>\n      <td>...</td>\n      <td>...</td>\n      <td>...</td>\n      <td>...</td>\n      <td>...</td>\n      <td>...</td>\n      <td>...</td>\n      <td>...</td>\n      <td>...</td>\n      <td>...</td>\n      <td>...</td>\n      <td>...</td>\n      <td>...</td>\n    </tr>\n    <tr>\n      <th>95</th>\n      <td>0</td>\n      <td>0</td>\n      <td>0</td>\n      <td>0</td>\n      <td>0</td>\n      <td>0</td>\n      <td>0</td>\n      <td>0</td>\n      <td>0</td>\n      <td>0</td>\n      <td>...</td>\n      <td>0</td>\n      <td>0</td>\n      <td>0</td>\n      <td>0</td>\n      <td>0</td>\n      <td>0</td>\n      <td>0</td>\n      <td>0</td>\n      <td>0</td>\n      <td>0</td>\n    </tr>\n    <tr>\n      <th>96</th>\n      <td>0</td>\n      <td>0</td>\n      <td>0</td>\n      <td>0</td>\n      <td>0</td>\n      <td>0</td>\n      <td>0</td>\n      <td>0</td>\n      <td>0</td>\n      <td>0</td>\n      <td>...</td>\n      <td>0</td>\n      <td>0</td>\n      <td>0</td>\n      <td>0</td>\n      <td>0</td>\n      <td>0</td>\n      <td>0</td>\n      <td>0</td>\n      <td>0</td>\n      <td>0</td>\n    </tr>\n    <tr>\n      <th>97</th>\n      <td>0</td>\n      <td>0</td>\n      <td>0</td>\n      <td>0</td>\n      <td>0</td>\n      <td>0</td>\n      <td>0</td>\n      <td>0</td>\n      <td>0</td>\n      <td>0</td>\n      <td>...</td>\n      <td>0</td>\n      <td>0</td>\n      <td>0</td>\n      <td>0</td>\n      <td>0</td>\n      <td>0</td>\n      <td>0</td>\n      <td>0</td>\n      <td>0</td>\n      <td>0</td>\n    </tr>\n    <tr>\n      <th>98</th>\n      <td>0</td>\n      <td>0</td>\n      <td>0</td>\n      <td>0</td>\n      <td>0</td>\n      <td>0</td>\n      <td>0</td>\n      <td>0</td>\n      <td>0</td>\n      <td>0</td>\n      <td>...</td>\n      <td>0</td>\n      <td>0</td>\n      <td>0</td>\n      <td>0</td>\n      <td>0</td>\n      <td>0</td>\n      <td>0</td>\n      <td>0</td>\n      <td>0</td>\n      <td>0</td>\n    </tr>\n    <tr>\n      <th>99</th>\n      <td>0</td>\n      <td>0</td>\n      <td>0</td>\n      <td>0</td>\n      <td>0</td>\n      <td>0</td>\n      <td>0</td>\n      <td>0</td>\n      <td>0</td>\n      <td>0</td>\n      <td>...</td>\n      <td>0</td>\n      <td>0</td>\n      <td>0</td>\n      <td>0</td>\n      <td>0</td>\n      <td>0</td>\n      <td>0</td>\n      <td>0</td>\n      <td>0</td>\n      <td>0</td>\n    </tr>\n  </tbody>\n</table>\n<p>917 rows × 422 columns</p>\n</div>"
     },
     "metadata": {},
     "execution_count": 4
    }
   ],
   "source": [
    "def encode_units(x):\n",
    "    if x <= 0:\n",
    "        return 0\n",
    "    if x >= 1:\n",
    "        return 1\n",
    "basket_sets = basket.applymap(encode_units)\n",
    "basket_sets"
   ]
  },
  {
   "cell_type": "code",
   "execution_count": 5,
   "metadata": {},
   "outputs": [],
   "source": [
    "frequent_itemsets_ap = apriori(basket_sets, min_support=0.002, use_colnames=True)"
   ]
  },
  {
   "cell_type": "code",
   "execution_count": 6,
   "metadata": {},
   "outputs": [
    {
     "output_type": "execute_result",
     "data": {
      "text/plain": [
       "      support                                           itemsets\n",
       "0    0.004362                              (100%  JAWARA FISIKA)\n",
       "1    0.002181                       (105 PESA NABI UNTUK WANITA)\n",
       "2    0.006543                             (115 KISAH MENAJUBKAN)\n",
       "3    0.003272                                (3 WALI 1 BIDADARI)\n",
       "4    0.005453                (5 PONDASI RAHASIA PEMIMPIN UNGGUL)\n",
       "..        ...                                                ...\n",
       "214  0.002181                  (RAHASIA LUKISAN, GELANG BERTUAH)\n",
       "215  0.002181  (HABIBIE ( TAK BOLEH LELAH DAN KALAH), MAHASIS...\n",
       "216  0.002181         (HAPPINESS, KENANG KENANGAN WANITA PEMALU)\n",
       "217  0.002181       (NEGERI DIUJUNG TANDUK, NEGERI PARA BEDEBAH)\n",
       "218  0.002181   (PATAH HATI WOLES AJA!, SURAT KECIL UNTUK TUHAN)\n",
       "\n",
       "[219 rows x 2 columns]"
      ],
      "text/html": "<div>\n<style scoped>\n    .dataframe tbody tr th:only-of-type {\n        vertical-align: middle;\n    }\n\n    .dataframe tbody tr th {\n        vertical-align: top;\n    }\n\n    .dataframe thead th {\n        text-align: right;\n    }\n</style>\n<table border=\"1\" class=\"dataframe\">\n  <thead>\n    <tr style=\"text-align: right;\">\n      <th></th>\n      <th>support</th>\n      <th>itemsets</th>\n    </tr>\n  </thead>\n  <tbody>\n    <tr>\n      <th>0</th>\n      <td>0.004362</td>\n      <td>(100%  JAWARA FISIKA)</td>\n    </tr>\n    <tr>\n      <th>1</th>\n      <td>0.002181</td>\n      <td>(105 PESA NABI UNTUK WANITA)</td>\n    </tr>\n    <tr>\n      <th>2</th>\n      <td>0.006543</td>\n      <td>(115 KISAH MENAJUBKAN)</td>\n    </tr>\n    <tr>\n      <th>3</th>\n      <td>0.003272</td>\n      <td>(3 WALI 1 BIDADARI)</td>\n    </tr>\n    <tr>\n      <th>4</th>\n      <td>0.005453</td>\n      <td>(5 PONDASI RAHASIA PEMIMPIN UNGGUL)</td>\n    </tr>\n    <tr>\n      <th>...</th>\n      <td>...</td>\n      <td>...</td>\n    </tr>\n    <tr>\n      <th>214</th>\n      <td>0.002181</td>\n      <td>(RAHASIA LUKISAN, GELANG BERTUAH)</td>\n    </tr>\n    <tr>\n      <th>215</th>\n      <td>0.002181</td>\n      <td>(HABIBIE ( TAK BOLEH LELAH DAN KALAH), MAHASIS...</td>\n    </tr>\n    <tr>\n      <th>216</th>\n      <td>0.002181</td>\n      <td>(HAPPINESS, KENANG KENANGAN WANITA PEMALU)</td>\n    </tr>\n    <tr>\n      <th>217</th>\n      <td>0.002181</td>\n      <td>(NEGERI DIUJUNG TANDUK, NEGERI PARA BEDEBAH)</td>\n    </tr>\n    <tr>\n      <th>218</th>\n      <td>0.002181</td>\n      <td>(PATAH HATI WOLES AJA!, SURAT KECIL UNTUK TUHAN)</td>\n    </tr>\n  </tbody>\n</table>\n<p>219 rows × 2 columns</p>\n</div>"
     },
     "metadata": {},
     "execution_count": 6
    }
   ],
   "source": [
    "frequent_itemsets_ap"
   ]
  },
  {
   "cell_type": "code",
   "execution_count": 7,
   "metadata": {},
   "outputs": [],
   "source": [
    "frequent_itemsets_fp = fpgrowth(basket_sets, min_support=0.002, use_colnames=True)"
   ]
  },
  {
   "cell_type": "code",
   "execution_count": 8,
   "metadata": {},
   "outputs": [
    {
     "output_type": "execute_result",
     "data": {
      "text/plain": [
       "      support                                           itemsets\n",
       "0    0.004362                                            (GHAZI)\n",
       "1    0.013086                                   (A UNTUK AMANDA)\n",
       "2    0.006543                                      (DEAR NATHAN)\n",
       "3    0.010905                                   (TANAMAN MOSTER)\n",
       "4    0.007634                                         (TIFA TUA)\n",
       "..        ...                                                ...\n",
       "214  0.002181                      (OLIVER TWIST, ABOUT FRIENDS)\n",
       "215  0.002181               (EMPAT KHALIFAH, ODE A NIGTHTINGALE)\n",
       "216  0.004362            (MARKETING MUHAMMAD, BIOLOGI KLS X BSE)\n",
       "217  0.002181  (BILANG BEGINI MAKSUDNYA BEGITU, SUNSHINE BECO...\n",
       "218  0.002181  (HABIBIE ( TAK BOLEH LELAH DAN KALAH), MAHASIS...\n",
       "\n",
       "[219 rows x 2 columns]"
      ],
      "text/html": "<div>\n<style scoped>\n    .dataframe tbody tr th:only-of-type {\n        vertical-align: middle;\n    }\n\n    .dataframe tbody tr th {\n        vertical-align: top;\n    }\n\n    .dataframe thead th {\n        text-align: right;\n    }\n</style>\n<table border=\"1\" class=\"dataframe\">\n  <thead>\n    <tr style=\"text-align: right;\">\n      <th></th>\n      <th>support</th>\n      <th>itemsets</th>\n    </tr>\n  </thead>\n  <tbody>\n    <tr>\n      <th>0</th>\n      <td>0.004362</td>\n      <td>(GHAZI)</td>\n    </tr>\n    <tr>\n      <th>1</th>\n      <td>0.013086</td>\n      <td>(A UNTUK AMANDA)</td>\n    </tr>\n    <tr>\n      <th>2</th>\n      <td>0.006543</td>\n      <td>(DEAR NATHAN)</td>\n    </tr>\n    <tr>\n      <th>3</th>\n      <td>0.010905</td>\n      <td>(TANAMAN MOSTER)</td>\n    </tr>\n    <tr>\n      <th>4</th>\n      <td>0.007634</td>\n      <td>(TIFA TUA)</td>\n    </tr>\n    <tr>\n      <th>...</th>\n      <td>...</td>\n      <td>...</td>\n    </tr>\n    <tr>\n      <th>214</th>\n      <td>0.002181</td>\n      <td>(OLIVER TWIST, ABOUT FRIENDS)</td>\n    </tr>\n    <tr>\n      <th>215</th>\n      <td>0.002181</td>\n      <td>(EMPAT KHALIFAH, ODE A NIGTHTINGALE)</td>\n    </tr>\n    <tr>\n      <th>216</th>\n      <td>0.004362</td>\n      <td>(MARKETING MUHAMMAD, BIOLOGI KLS X BSE)</td>\n    </tr>\n    <tr>\n      <th>217</th>\n      <td>0.002181</td>\n      <td>(BILANG BEGINI MAKSUDNYA BEGITU, SUNSHINE BECO...</td>\n    </tr>\n    <tr>\n      <th>218</th>\n      <td>0.002181</td>\n      <td>(HABIBIE ( TAK BOLEH LELAH DAN KALAH), MAHASIS...</td>\n    </tr>\n  </tbody>\n</table>\n<p>219 rows × 2 columns</p>\n</div>"
     },
     "metadata": {},
     "execution_count": 8
    }
   ],
   "source": [
    "frequent_itemsets_fp"
   ]
  },
  {
   "cell_type": "code",
   "execution_count": 9,
   "metadata": {},
   "outputs": [],
   "source": [
    "rules_apriori = association_rules(frequent_itemsets_ap, metric=\"confidence\", min_threshold=0.8)\n",
    "rules_ctpro = association_rules(frequent_itemsets_fp, metric=\"confidence\", min_threshold=0.8)"
   ]
  },
  {
   "cell_type": "code",
   "execution_count": 10,
   "metadata": {},
   "outputs": [
    {
     "output_type": "execute_result",
     "data": {
      "text/plain": [
       "                              antecedents                      consequents  \\\n",
       "0                  (SHALAHUDDIN AL-AYUBI)  (BE CALM BE STRONG BE GRATEFUL)   \n",
       "1                    (MARKETING MUHAMMAD)              (BIOLOGI KLS X BSE)   \n",
       "2                        (EMPAT KHALIFAH)             (ODE A NIGTHTINGALE)   \n",
       "3                    (ODE A NIGTHTINGALE)                 (EMPAT KHALIFAH)   \n",
       "4  (HABIBIE ( TAK BOLEH LELAH DAN KALAH))               (MAHASISWA KOPLAK)   \n",
       "5         (KENANG KENANGAN WANITA PEMALU)                      (HAPPINESS)   \n",
       "6                 (PATAH HATI WOLES AJA!)        (SURAT KECIL UNTUK TUHAN)   \n",
       "\n",
       "   antecedent support  consequent support   support  confidence        lift  \\\n",
       "0            0.007634            0.015267  0.006543    0.857143   56.142857   \n",
       "1            0.005453            0.047983  0.004362    0.800000   16.672727   \n",
       "2            0.002181            0.002181  0.002181    1.000000  458.500000   \n",
       "3            0.002181            0.002181  0.002181    1.000000  458.500000   \n",
       "4            0.002181            0.003272  0.002181    1.000000  305.666667   \n",
       "5            0.002181            0.010905  0.002181    1.000000   91.700000   \n",
       "6            0.002181            0.007634  0.002181    1.000000  131.000000   \n",
       "\n",
       "   leverage  conviction  \n",
       "0  0.006427    6.893130  \n",
       "1  0.004100    4.760087  \n",
       "2  0.002176         inf  \n",
       "3  0.002176         inf  \n",
       "4  0.002174         inf  \n",
       "5  0.002157         inf  \n",
       "6  0.002164         inf  "
      ],
      "text/html": "<div>\n<style scoped>\n    .dataframe tbody tr th:only-of-type {\n        vertical-align: middle;\n    }\n\n    .dataframe tbody tr th {\n        vertical-align: top;\n    }\n\n    .dataframe thead th {\n        text-align: right;\n    }\n</style>\n<table border=\"1\" class=\"dataframe\">\n  <thead>\n    <tr style=\"text-align: right;\">\n      <th></th>\n      <th>antecedents</th>\n      <th>consequents</th>\n      <th>antecedent support</th>\n      <th>consequent support</th>\n      <th>support</th>\n      <th>confidence</th>\n      <th>lift</th>\n      <th>leverage</th>\n      <th>conviction</th>\n    </tr>\n  </thead>\n  <tbody>\n    <tr>\n      <th>0</th>\n      <td>(SHALAHUDDIN AL-AYUBI)</td>\n      <td>(BE CALM BE STRONG BE GRATEFUL)</td>\n      <td>0.007634</td>\n      <td>0.015267</td>\n      <td>0.006543</td>\n      <td>0.857143</td>\n      <td>56.142857</td>\n      <td>0.006427</td>\n      <td>6.893130</td>\n    </tr>\n    <tr>\n      <th>1</th>\n      <td>(MARKETING MUHAMMAD)</td>\n      <td>(BIOLOGI KLS X BSE)</td>\n      <td>0.005453</td>\n      <td>0.047983</td>\n      <td>0.004362</td>\n      <td>0.800000</td>\n      <td>16.672727</td>\n      <td>0.004100</td>\n      <td>4.760087</td>\n    </tr>\n    <tr>\n      <th>2</th>\n      <td>(EMPAT KHALIFAH)</td>\n      <td>(ODE A NIGTHTINGALE)</td>\n      <td>0.002181</td>\n      <td>0.002181</td>\n      <td>0.002181</td>\n      <td>1.000000</td>\n      <td>458.500000</td>\n      <td>0.002176</td>\n      <td>inf</td>\n    </tr>\n    <tr>\n      <th>3</th>\n      <td>(ODE A NIGTHTINGALE)</td>\n      <td>(EMPAT KHALIFAH)</td>\n      <td>0.002181</td>\n      <td>0.002181</td>\n      <td>0.002181</td>\n      <td>1.000000</td>\n      <td>458.500000</td>\n      <td>0.002176</td>\n      <td>inf</td>\n    </tr>\n    <tr>\n      <th>4</th>\n      <td>(HABIBIE ( TAK BOLEH LELAH DAN KALAH))</td>\n      <td>(MAHASISWA KOPLAK)</td>\n      <td>0.002181</td>\n      <td>0.003272</td>\n      <td>0.002181</td>\n      <td>1.000000</td>\n      <td>305.666667</td>\n      <td>0.002174</td>\n      <td>inf</td>\n    </tr>\n    <tr>\n      <th>5</th>\n      <td>(KENANG KENANGAN WANITA PEMALU)</td>\n      <td>(HAPPINESS)</td>\n      <td>0.002181</td>\n      <td>0.010905</td>\n      <td>0.002181</td>\n      <td>1.000000</td>\n      <td>91.700000</td>\n      <td>0.002157</td>\n      <td>inf</td>\n    </tr>\n    <tr>\n      <th>6</th>\n      <td>(PATAH HATI WOLES AJA!)</td>\n      <td>(SURAT KECIL UNTUK TUHAN)</td>\n      <td>0.002181</td>\n      <td>0.007634</td>\n      <td>0.002181</td>\n      <td>1.000000</td>\n      <td>131.000000</td>\n      <td>0.002164</td>\n      <td>inf</td>\n    </tr>\n  </tbody>\n</table>\n</div>"
     },
     "metadata": {},
     "execution_count": 10
    }
   ],
   "source": [
    "rules_apriori"
   ]
  },
  {
   "cell_type": "code",
   "execution_count": 11,
   "metadata": {},
   "outputs": [
    {
     "output_type": "execute_result",
     "data": {
      "text/plain": [
       "                              antecedents                      consequents  \\\n",
       "0         (KENANG KENANGAN WANITA PEMALU)                      (HAPPINESS)   \n",
       "1                  (SHALAHUDDIN AL-AYUBI)  (BE CALM BE STRONG BE GRATEFUL)   \n",
       "2                 (PATAH HATI WOLES AJA!)        (SURAT KECIL UNTUK TUHAN)   \n",
       "3                        (EMPAT KHALIFAH)             (ODE A NIGTHTINGALE)   \n",
       "4                    (ODE A NIGTHTINGALE)                 (EMPAT KHALIFAH)   \n",
       "5                    (MARKETING MUHAMMAD)              (BIOLOGI KLS X BSE)   \n",
       "6  (HABIBIE ( TAK BOLEH LELAH DAN KALAH))               (MAHASISWA KOPLAK)   \n",
       "\n",
       "   antecedent support  consequent support   support  confidence        lift  \\\n",
       "0            0.002181            0.010905  0.002181    1.000000   91.700000   \n",
       "1            0.007634            0.015267  0.006543    0.857143   56.142857   \n",
       "2            0.002181            0.007634  0.002181    1.000000  131.000000   \n",
       "3            0.002181            0.002181  0.002181    1.000000  458.500000   \n",
       "4            0.002181            0.002181  0.002181    1.000000  458.500000   \n",
       "5            0.005453            0.047983  0.004362    0.800000   16.672727   \n",
       "6            0.002181            0.003272  0.002181    1.000000  305.666667   \n",
       "\n",
       "   leverage  conviction  \n",
       "0  0.002157         inf  \n",
       "1  0.006427    6.893130  \n",
       "2  0.002164         inf  \n",
       "3  0.002176         inf  \n",
       "4  0.002176         inf  \n",
       "5  0.004100    4.760087  \n",
       "6  0.002174         inf  "
      ],
      "text/html": "<div>\n<style scoped>\n    .dataframe tbody tr th:only-of-type {\n        vertical-align: middle;\n    }\n\n    .dataframe tbody tr th {\n        vertical-align: top;\n    }\n\n    .dataframe thead th {\n        text-align: right;\n    }\n</style>\n<table border=\"1\" class=\"dataframe\">\n  <thead>\n    <tr style=\"text-align: right;\">\n      <th></th>\n      <th>antecedents</th>\n      <th>consequents</th>\n      <th>antecedent support</th>\n      <th>consequent support</th>\n      <th>support</th>\n      <th>confidence</th>\n      <th>lift</th>\n      <th>leverage</th>\n      <th>conviction</th>\n    </tr>\n  </thead>\n  <tbody>\n    <tr>\n      <th>0</th>\n      <td>(KENANG KENANGAN WANITA PEMALU)</td>\n      <td>(HAPPINESS)</td>\n      <td>0.002181</td>\n      <td>0.010905</td>\n      <td>0.002181</td>\n      <td>1.000000</td>\n      <td>91.700000</td>\n      <td>0.002157</td>\n      <td>inf</td>\n    </tr>\n    <tr>\n      <th>1</th>\n      <td>(SHALAHUDDIN AL-AYUBI)</td>\n      <td>(BE CALM BE STRONG BE GRATEFUL)</td>\n      <td>0.007634</td>\n      <td>0.015267</td>\n      <td>0.006543</td>\n      <td>0.857143</td>\n      <td>56.142857</td>\n      <td>0.006427</td>\n      <td>6.893130</td>\n    </tr>\n    <tr>\n      <th>2</th>\n      <td>(PATAH HATI WOLES AJA!)</td>\n      <td>(SURAT KECIL UNTUK TUHAN)</td>\n      <td>0.002181</td>\n      <td>0.007634</td>\n      <td>0.002181</td>\n      <td>1.000000</td>\n      <td>131.000000</td>\n      <td>0.002164</td>\n      <td>inf</td>\n    </tr>\n    <tr>\n      <th>3</th>\n      <td>(EMPAT KHALIFAH)</td>\n      <td>(ODE A NIGTHTINGALE)</td>\n      <td>0.002181</td>\n      <td>0.002181</td>\n      <td>0.002181</td>\n      <td>1.000000</td>\n      <td>458.500000</td>\n      <td>0.002176</td>\n      <td>inf</td>\n    </tr>\n    <tr>\n      <th>4</th>\n      <td>(ODE A NIGTHTINGALE)</td>\n      <td>(EMPAT KHALIFAH)</td>\n      <td>0.002181</td>\n      <td>0.002181</td>\n      <td>0.002181</td>\n      <td>1.000000</td>\n      <td>458.500000</td>\n      <td>0.002176</td>\n      <td>inf</td>\n    </tr>\n    <tr>\n      <th>5</th>\n      <td>(MARKETING MUHAMMAD)</td>\n      <td>(BIOLOGI KLS X BSE)</td>\n      <td>0.005453</td>\n      <td>0.047983</td>\n      <td>0.004362</td>\n      <td>0.800000</td>\n      <td>16.672727</td>\n      <td>0.004100</td>\n      <td>4.760087</td>\n    </tr>\n    <tr>\n      <th>6</th>\n      <td>(HABIBIE ( TAK BOLEH LELAH DAN KALAH))</td>\n      <td>(MAHASISWA KOPLAK)</td>\n      <td>0.002181</td>\n      <td>0.003272</td>\n      <td>0.002181</td>\n      <td>1.000000</td>\n      <td>305.666667</td>\n      <td>0.002174</td>\n      <td>inf</td>\n    </tr>\n  </tbody>\n</table>\n</div>"
     },
     "metadata": {},
     "execution_count": 11
    }
   ],
   "source": [
    "rules_ctpro"
   ]
  },
  {
   "cell_type": "code",
   "execution_count": null,
   "metadata": {},
   "outputs": [],
   "source": []
  }
 ]
}